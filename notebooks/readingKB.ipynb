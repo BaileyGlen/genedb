{
 "cells": [
  {
   "cell_type": "code",
   "execution_count": 1,
   "metadata": {
    "collapsed": true
   },
   "outputs": [],
   "source": [
    "import pandas as pd"
   ]
  },
  {
   "cell_type": "code",
   "execution_count": 201,
   "metadata": {},
   "outputs": [],
   "source": [
    "dfgenes=pd.read_excel(\"../data/GeneKB01.xlsx\", sheetname=0,index_col=\"GeneSymbol\")"
   ]
  },
  {
   "cell_type": "code",
   "execution_count": 29,
   "metadata": {
    "collapsed": true
   },
   "outputs": [],
   "source": [
    "myeloidDiseaseList = [\"AML\", \"MDS\", \"MPN\", \"Unknown\"]"
   ]
  },
  {
   "cell_type": "code",
   "execution_count": 38,
   "metadata": {},
   "outputs": [
    {
     "name": "stdout",
     "output_type": "stream",
     "text": [
      "Index(['AML_Incidence', 'AML_ClinicalRelevance', 'AML_Guidelines',\n",
      "       'AML_Therapeutic', 'AML_Diagnostic', 'AML_Prognostic',\n",
      "       'AML_Interactions'],\n",
      "      dtype='object')\n",
      "Index(['MDS_Incidence', 'MDS_ClinicalRelevance', 'MDS_Guidelines',\n",
      "       'MDS_Therapeutic', 'MDS_Diagnostic', 'MDS_Prognostic',\n",
      "       'MDS_Interactions'],\n",
      "      dtype='object')\n",
      "Index(['MPN_Incidence', 'MPN_ClinicalRelevance', 'MPN_Guidelines',\n",
      "       'MPN_Therapeutic', 'MPN_Diagnostic', 'MPN_Prognostic',\n",
      "       'MPN_Interactions'],\n",
      "      dtype='object')\n",
      "Index(['Unknown_Incidence', 'Unknown_ClinicalRelevance', 'Unknown_Guidelines',\n",
      "       'Unknown_Therapeutic', 'Unknown_Diagnostic', 'Unknown_Prognostic',\n",
      "       'Unknown_Interactions'],\n",
      "      dtype='object')\n"
     ]
    }
   ],
   "source": [
    "for disease in myeloidDiseaseList:\n",
    "    disease + '_' +dfheaders.columns[1:]"
   ]
  },
  {
   "cell_type": "code",
   "execution_count": 40,
   "metadata": {},
   "outputs": [],
   "source": [
    "output = [disease + '_' +dfheaders.columns[1:] for disease in myeloidDiseaseList]"
   ]
  },
  {
   "cell_type": "code",
   "execution_count": 51,
   "metadata": {},
   "outputs": [],
   "source": [
    "output = [disease + '_' + column for disease in myeloidDiseaseList for column in dfheaders.columns[1:]]"
   ]
  },
  {
   "cell_type": "code",
   "execution_count": 125,
   "metadata": {},
   "outputs": [],
   "source": [
    "myeloidDiseaseList = [\"Unknown\", \"AML\", \"MDS\", \"MPN\", ]\n",
    "myeloidSheetList = [1,2,3,4]"
   ]
  },
  {
   "cell_type": "code",
   "execution_count": 202,
   "metadata": {},
   "outputs": [],
   "source": [
    "for disease, sheetindex in zip (myeloidDiseaseList, myeloidSheetList):\n",
    "    df=pd.read_excel(\"../data/GeneKB01.xlsx\", sheetname=sheetindex, index_col=\"GeneSymbol\")\n",
    "    df.columns= disease +\"_\"+ df.columns\n",
    "    dfgenes = dfgenes.join(df,  how=\"outer\")"
   ]
  },
  {
   "cell_type": "code",
   "execution_count": 203,
   "metadata": {},
   "outputs": [
    {
     "data": {
      "text/html": [
       "<div>\n",
       "<style>\n",
       "    .dataframe thead tr:only-child th {\n",
       "        text-align: right;\n",
       "    }\n",
       "\n",
       "    .dataframe thead th {\n",
       "        text-align: left;\n",
       "    }\n",
       "\n",
       "    .dataframe tbody tr th {\n",
       "        vertical-align: top;\n",
       "    }\n",
       "</style>\n",
       "<table border=\"1\" class=\"dataframe\">\n",
       "  <thead>\n",
       "    <tr style=\"text-align: right;\">\n",
       "      <th></th>\n",
       "      <th>GeneSymbol</th>\n",
       "      <th>Panel</th>\n",
       "      <th>ProteinSymbol</th>\n",
       "      <th>ProteinClass</th>\n",
       "      <th>ProteinFunction</th>\n",
       "      <th>CancerStatus</th>\n",
       "      <th>chr</th>\n",
       "      <th>start</th>\n",
       "      <th>stop</th>\n",
       "      <th>Unknown_Incidence</th>\n",
       "      <th>...</th>\n",
       "      <th>MDS_Diagnostic</th>\n",
       "      <th>MDS_Prognostic</th>\n",
       "      <th>MDS_Interactions</th>\n",
       "      <th>MPN_Incidence</th>\n",
       "      <th>MPN_ClinicalRelevance</th>\n",
       "      <th>MPN_Guidelines</th>\n",
       "      <th>MPN_Therapeutic</th>\n",
       "      <th>MPN_Diagnostic</th>\n",
       "      <th>MPN_Prognostic</th>\n",
       "      <th>MPN_Interactions</th>\n",
       "    </tr>\n",
       "  </thead>\n",
       "  <tbody>\n",
       "    <tr>\n",
       "      <th>0</th>\n",
       "      <td>ABL1</td>\n",
       "      <td>solid</td>\n",
       "      <td>Abl1</td>\n",
       "      <td>Non-Receptor Tyrosine Kinase</td>\n",
       "      <td>NaN</td>\n",
       "      <td>proto-oncogene</td>\n",
       "      <td>NaN</td>\n",
       "      <td>NaN</td>\n",
       "      <td>NaN</td>\n",
       "      <td>NaN</td>\n",
       "      <td>...</td>\n",
       "      <td>NaN</td>\n",
       "      <td>NaN</td>\n",
       "      <td>NaN</td>\n",
       "      <td>NaN</td>\n",
       "      <td>NaN</td>\n",
       "      <td>NaN</td>\n",
       "      <td>NaN</td>\n",
       "      <td>NaN</td>\n",
       "      <td>NaN</td>\n",
       "      <td>NaN</td>\n",
       "    </tr>\n",
       "    <tr>\n",
       "      <th>1</th>\n",
       "      <td>AKT1</td>\n",
       "      <td>solid</td>\n",
       "      <td>Akt1</td>\n",
       "      <td>serine-threonine protein kinase</td>\n",
       "      <td>NaN</td>\n",
       "      <td>NaN</td>\n",
       "      <td>NaN</td>\n",
       "      <td>NaN</td>\n",
       "      <td>NaN</td>\n",
       "      <td>NaN</td>\n",
       "      <td>...</td>\n",
       "      <td>NaN</td>\n",
       "      <td>NaN</td>\n",
       "      <td>NaN</td>\n",
       "      <td>NaN</td>\n",
       "      <td>NaN</td>\n",
       "      <td>NaN</td>\n",
       "      <td>NaN</td>\n",
       "      <td>NaN</td>\n",
       "      <td>NaN</td>\n",
       "      <td>NaN</td>\n",
       "    </tr>\n",
       "    <tr>\n",
       "      <th>2</th>\n",
       "      <td>ALK</td>\n",
       "      <td>solid</td>\n",
       "      <td>Alk</td>\n",
       "      <td>receptor tyrosine kinase</td>\n",
       "      <td>NaN</td>\n",
       "      <td>NaN</td>\n",
       "      <td>NaN</td>\n",
       "      <td>NaN</td>\n",
       "      <td>NaN</td>\n",
       "      <td>NaN</td>\n",
       "      <td>...</td>\n",
       "      <td>NaN</td>\n",
       "      <td>NaN</td>\n",
       "      <td>NaN</td>\n",
       "      <td>NaN</td>\n",
       "      <td>NaN</td>\n",
       "      <td>NaN</td>\n",
       "      <td>NaN</td>\n",
       "      <td>NaN</td>\n",
       "      <td>NaN</td>\n",
       "      <td>NaN</td>\n",
       "    </tr>\n",
       "    <tr>\n",
       "      <th>3</th>\n",
       "      <td>APC</td>\n",
       "      <td>solid</td>\n",
       "      <td>Apc</td>\n",
       "      <td>NaN</td>\n",
       "      <td>NaN</td>\n",
       "      <td>NaN</td>\n",
       "      <td>NaN</td>\n",
       "      <td>NaN</td>\n",
       "      <td>NaN</td>\n",
       "      <td>NaN</td>\n",
       "      <td>...</td>\n",
       "      <td>NaN</td>\n",
       "      <td>NaN</td>\n",
       "      <td>NaN</td>\n",
       "      <td>NaN</td>\n",
       "      <td>NaN</td>\n",
       "      <td>NaN</td>\n",
       "      <td>NaN</td>\n",
       "      <td>NaN</td>\n",
       "      <td>NaN</td>\n",
       "      <td>NaN</td>\n",
       "    </tr>\n",
       "    <tr>\n",
       "      <th>4</th>\n",
       "      <td>ASXL1</td>\n",
       "      <td>myeloid</td>\n",
       "      <td>Asxl1</td>\n",
       "      <td>NaN</td>\n",
       "      <td>NaN</td>\n",
       "      <td>NaN</td>\n",
       "      <td>NaN</td>\n",
       "      <td>NaN</td>\n",
       "      <td>NaN</td>\n",
       "      <td>NaN</td>\n",
       "      <td>...</td>\n",
       "      <td>NaN</td>\n",
       "      <td>NaN</td>\n",
       "      <td>NaN</td>\n",
       "      <td>NaN</td>\n",
       "      <td>NaN</td>\n",
       "      <td>NaN</td>\n",
       "      <td>NaN</td>\n",
       "      <td>NaN</td>\n",
       "      <td>NaN</td>\n",
       "      <td>NaN</td>\n",
       "    </tr>\n",
       "  </tbody>\n",
       "</table>\n",
       "<p>5 rows × 37 columns</p>\n",
       "</div>"
      ],
      "text/plain": [
       "  GeneSymbol    Panel ProteinSymbol                     ProteinClass  \\\n",
       "0       ABL1    solid          Abl1     Non-Receptor Tyrosine Kinase   \n",
       "1       AKT1    solid          Akt1  serine-threonine protein kinase   \n",
       "2        ALK    solid           Alk         receptor tyrosine kinase   \n",
       "3        APC    solid           Apc                              NaN   \n",
       "4      ASXL1  myeloid         Asxl1                              NaN   \n",
       "\n",
       "  ProteinFunction    CancerStatus  chr  start  stop  Unknown_Incidence  \\\n",
       "0             NaN  proto-oncogene  NaN    NaN   NaN                NaN   \n",
       "1             NaN             NaN  NaN    NaN   NaN                NaN   \n",
       "2             NaN             NaN  NaN    NaN   NaN                NaN   \n",
       "3             NaN             NaN  NaN    NaN   NaN                NaN   \n",
       "4             NaN             NaN  NaN    NaN   NaN                NaN   \n",
       "\n",
       "        ...         MDS_Diagnostic  MDS_Prognostic  MDS_Interactions  \\\n",
       "0       ...                    NaN             NaN               NaN   \n",
       "1       ...                    NaN             NaN               NaN   \n",
       "2       ...                    NaN             NaN               NaN   \n",
       "3       ...                    NaN             NaN               NaN   \n",
       "4       ...                    NaN             NaN               NaN   \n",
       "\n",
       "   MPN_Incidence  MPN_ClinicalRelevance  MPN_Guidelines MPN_Therapeutic  \\\n",
       "0            NaN                    NaN             NaN             NaN   \n",
       "1            NaN                    NaN             NaN             NaN   \n",
       "2            NaN                    NaN             NaN             NaN   \n",
       "3            NaN                    NaN             NaN             NaN   \n",
       "4            NaN                    NaN             NaN             NaN   \n",
       "\n",
       "  MPN_Diagnostic MPN_Prognostic MPN_Interactions  \n",
       "0            NaN            NaN              NaN  \n",
       "1            NaN            NaN              NaN  \n",
       "2            NaN            NaN              NaN  \n",
       "3            NaN            NaN              NaN  \n",
       "4            NaN            NaN              NaN  \n",
       "\n",
       "[5 rows x 37 columns]"
      ]
     },
     "execution_count": 203,
     "metadata": {},
     "output_type": "execute_result"
    }
   ],
   "source": [
    "dfgenes.reset_index(inplace=True)\n",
    "dfgenes.head()"
   ]
  },
  {
   "cell_type": "code",
   "execution_count": 218,
   "metadata": {
    "collapsed": true
   },
   "outputs": [],
   "source": [
    "dfgenes=dfgenes.fillna(\"\")"
   ]
  },
  {
   "cell_type": "code",
   "execution_count": 219,
   "metadata": {},
   "outputs": [],
   "source": [
    "def removespecchar(test):\n",
    "    import re\n",
    "    test2=re.sub('\\t','',test)\n",
    "    test=re.sub('\\\"','',test2)\n",
    "    return(test)"
   ]
  },
  {
   "cell_type": "code",
   "execution_count": 221,
   "metadata": {},
   "outputs": [],
   "source": [
    "dfgenes=dfgenes.applymap(removespecchar)"
   ]
  },
  {
   "cell_type": "code",
   "execution_count": 229,
   "metadata": {},
   "outputs": [],
   "source": [
    "collist=list(dfgenes.columns)\n",
    "newcollist=collist[6:9] + collist[0:6] + collist[9:]\n",
    "import csv\n",
    "dfgenes.to_csv(\"Testbedfile.bed\", sep='\\t', columns=newcollist, index=False, quoting=csv.QUOTE_NONNUMERIC)"
   ]
  }
 ],
 "metadata": {
  "kernelspec": {
   "display_name": "Python 3",
   "language": "python",
   "name": "python3"
  },
  "language_info": {
   "codemirror_mode": {
    "name": "ipython",
    "version": 3
   },
   "file_extension": ".py",
   "mimetype": "text/x-python",
   "name": "python",
   "nbconvert_exporter": "python",
   "pygments_lexer": "ipython3",
   "version": "3.6.1"
  }
 },
 "nbformat": 4,
 "nbformat_minor": 2
}

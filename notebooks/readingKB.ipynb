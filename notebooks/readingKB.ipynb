{
 "cells": [
  {
   "cell_type": "code",
   "execution_count": 1,
   "metadata": {
    "collapsed": true
   },
   "outputs": [],
   "source": [
    "import pandas as pd\n",
    "import csv"
   ]
  },
  {
   "cell_type": "code",
   "execution_count": 17,
   "metadata": {
    "collapsed": true
   },
   "outputs": [],
   "source": [
    "def removespecchar(test):\n",
    "    import re\n",
    "    if type(test) == str:\n",
    "        test2=re.sub('\\t','',test)\n",
    "        test=re.sub('\\\"','',test2)\n",
    "    return(test)"
   ]
  },
  {
   "cell_type": "code",
   "execution_count": 18,
   "metadata": {
    "collapsed": true
   },
   "outputs": [],
   "source": [
    "def createbed(dfgenes, disease, sheetindex):\n",
    "    df=pd.read_excel(\"../data/GeneKB01.xlsx\", sheetname=sheetindex, index_col=\"GeneSymbol\", parse_cols = [0,1,2,3,4])\n",
    "    df.columns= disease +\"_\"+ df.columns\n",
    "    dfgenes2 = dfgenes.join(df,  how=\"outer\")\n",
    "    dfgenes2.reset_index(inplace=True)\n",
    "    dfgenes2=dfgenes2.fillna(\"\")\n",
    "    dfgenes2=dfgenes2.applymap(removespecchar)\n",
    "    collist=list(dfgenes2.columns)\n",
    "    newcollist=collist[6:9] + collist[0:6] + collist[9:]\n",
    "    dfgenes2.to_csv(disease+\".bed\", sep='\\t', columns=newcollist, index=False)"
   ]
  },
  {
   "cell_type": "code",
   "execution_count": 19,
   "metadata": {
    "scrolled": true
   },
   "outputs": [],
   "source": [
    "dfgenes=pd.read_excel(\"../data/GeneKB01.xlsx\", sheetname=0,index_col=\"GeneSymbol\", dtypes=object)\n",
    "myeloidDiseaseList = [\"Unknown\", \"AML\", \"MDS\", \"MPN\", ]\n",
    "myeloidSheetList = [1,2,3,4]\n",
    "for disease, sheetindex in zip (myeloidDiseaseList, myeloidSheetList):\n",
    "    createbed(dfgenes,disease,sheetindex)"
   ]
  },
  {
   "cell_type": "code",
   "execution_count": null,
   "metadata": {
    "collapsed": true
   },
   "outputs": [],
   "source": []
  }
 ],
 "metadata": {
  "kernelspec": {
   "display_name": "Python 3",
   "language": "python",
   "name": "python3"
  },
  "language_info": {
   "codemirror_mode": {
    "name": "ipython",
    "version": 3
   },
   "file_extension": ".py",
   "mimetype": "text/x-python",
   "name": "python",
   "nbconvert_exporter": "python",
   "pygments_lexer": "ipython3",
   "version": "3.6.1"
  }
 },
 "nbformat": 4,
 "nbformat_minor": 2
}

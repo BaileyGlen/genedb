{
 "cells": [
  {
   "cell_type": "code",
   "execution_count": 41,
   "metadata": {
    "collapsed": true
   },
   "outputs": [],
   "source": [
    "def removespecchar(test):\n",
    "    import re\n",
    "    if type(test) == str:\n",
    "        test=re.sub('\\t',' ',test)\n",
    "        test=re.sub('\\\"',' ',test)\n",
    "        test=re.sub('\\n',' ',test)\n",
    "        test=re.sub('\\r',' ',test)\n",
    "        test=re.sub(' +',' ',test)\n",
    "    return(test)"
   ]
  },
  {
   "cell_type": "code",
   "execution_count": 42,
   "metadata": {
    "collapsed": true
   },
   "outputs": [],
   "source": [
    "def createstrings():\n",
    "    strings=[\"Testing with \\tcode     that can \\\"clean up \\nstrings.\",\n",
    "             \"Testing with \\tcode that can  ''   \\\"clean up \\nstrings.\",\n",
    "            \"Testing with \\tcode that can  \\r\\n   \\\"clean up \\nstrings.\",\n",
    "            \"Testing with \\tcode that can   \\r  \\\"clean up \\nstrings.\",\n",
    "            \"Testing with \\tcode that can     \\\"clean up \\nstrings.\"\n",
    "            ]\n",
    "    for string in strings:\n",
    "        print(removespecchar(string))"
   ]
  },
  {
   "cell_type": "code",
   "execution_count": 43,
   "metadata": {},
   "outputs": [
    {
     "name": "stdout",
     "output_type": "stream",
     "text": [
      "Testing with code that can clean up strings.\n",
      "Testing with code that can '' clean up strings.\n",
      "Testing with code that can clean up strings.\n",
      "Testing with code that can clean up strings.\n",
      "Testing with code that can clean up strings.\n"
     ]
    }
   ],
   "source": [
    "createstrings()"
   ]
  },
  {
   "cell_type": "code",
   "execution_count": 44,
   "metadata": {
    "collapsed": true
   },
   "outputs": [],
   "source": [
    "import tkinter as tk"
   ]
  },
  {
   "cell_type": "code",
   "execution_count": 56,
   "metadata": {},
   "outputs": [],
   "source": [
    "class Application(tk.Frame):\n",
    "    def __init__(self, master=None):\n",
    "        tk.Frame.__init__(self,master)\n",
    "        self.pack()\n",
    "        self.createWidgets()\n",
    "        \n",
    "    def createWidgets(self):\n",
    "        self.clean=tk.Button(self, text=\"Clean Input\",fg=\"green\",command=(self.runStringCleaner))\n",
    "        \n",
    "        self.inputText=tk.Text(self,height=20,width=100)\n",
    "        self.clean.pack()\n",
    "        self.inputText.pack()\n",
    "    def runStringCleaner(self):\n",
    "        String=removespecchar(self.inputText.get(1.0,tk.END))\n",
    "        self.inputText.delete(1.0,tk.END)\n",
    "        self.inputText.insert(tk.END,String)"
   ]
  },
  {
   "cell_type": "code",
   "execution_count": null,
   "metadata": {},
   "outputs": [],
   "source": [
    "root=tk.Tk()\n",
    "app=Application(master=root)\n",
    "app.mainloop()"
   ]
  },
  {
   "cell_type": "code",
   "execution_count": null,
   "metadata": {
    "collapsed": true
   },
   "outputs": [],
   "source": []
  }
 ],
 "metadata": {
  "kernelspec": {
   "display_name": "Python 3",
   "language": "python",
   "name": "python3"
  },
  "language_info": {
   "codemirror_mode": {
    "name": "ipython",
    "version": 3
   },
   "file_extension": ".py",
   "mimetype": "text/x-python",
   "name": "python",
   "nbconvert_exporter": "python",
   "pygments_lexer": "ipython3",
   "version": "3.6.1"
  }
 },
 "nbformat": 4,
 "nbformat_minor": 2
}

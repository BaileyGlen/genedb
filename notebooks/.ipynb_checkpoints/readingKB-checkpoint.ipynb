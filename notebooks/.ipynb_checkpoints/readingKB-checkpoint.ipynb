{
 "cells": [
  {
   "cell_type": "code",
   "execution_count": 89,
   "metadata": {
    "collapsed": true
   },
   "outputs": [],
   "source": [
    "import pandas as pd"
   ]
  },
  {
   "cell_type": "code",
   "execution_count": 90,
   "metadata": {},
   "outputs": [],
   "source": [
    "dfgenes=dfgenes2=dfgenes3=dfgenes4=pd.read_excel(\"../data/GeneKB01.xlsx\", sheetname=0,index_col=\"GeneSymbol\", dtypes=object)"
   ]
  },
  {
   "cell_type": "code",
   "execution_count": 91,
   "metadata": {},
   "outputs": [],
   "source": [
    "myeloidDiseaseList = [\"Unknown\", \"AML\", \"MDS\", \"MPN\", ]\n",
    "myeloidSheetList = [1,2,3,4]"
   ]
  },
  {
   "cell_type": "code",
   "execution_count": 92,
   "metadata": {},
   "outputs": [],
   "source": [
    "for disease, sheetindex in zip (myeloidDiseaseList, myeloidSheetList):\n",
    "    df=pd.read_excel(\"../data/GeneKB01.xlsx\", sheetname=1, index_col=\"GeneSymbol\")\n",
    "    df2=pd.read_excel(\"../data/GeneKB01.xlsx\", sheetname=2, index_col=\"GeneSymbol\", dtypes=object)\n",
    "    df3=pd.read_excel(\"../data/GeneKB01.xlsx\", sheetname=3, index_col=\"GeneSymbol\", dtypes=object)\n",
    "    df4=pd.read_excel(\"../data/GeneKB01.xlsx\", sheetname=4, index_col=\"GeneSymbol\", dtypes=object)\n",
    "    df.columns= disease +\"_\"+ df.columns\n",
    "    df2.columns= disease +\"_\"+ df2.columns\n",
    "    df3.columns= disease +\"_\"+ df3.columns\n",
    "    df4.columns= disease +\"_\"+ df4.columns\n",
    "    dfgenes = dfgenes.join(df,  how=\"outer\")\n",
    "    #dfgenes2 = dfgenes2.join(df2,  how=\"outer\")\n",
    "    #dfgenes3 = dfgenes3.join(df3,  how=\"outer\")\n",
    "    #dfgenes4 = dfgenes4.join(df4,  how=\"outer\")"
   ]
  },
  {
   "cell_type": "code",
   "execution_count": 93,
   "metadata": {},
   "outputs": [],
   "source": [
    "dfgenes=dfgenes.fillna(\"\")\n",
    "dfgenes.start.astype(pd.np.int)\n",
    "dfgenes.stop.astype(pd.np.int)\n",
    "dfgenes.reset_index(inplace=True)\n",
    "dfgenes2=dfgenes.fillna(\"\")\n",
    "dfgenes2.start.astype(pd.np.int)\n",
    "dfgenes2.stop.astype(pd.np.int)\n",
    "dfgenes2.reset_index(inplace=True)\n",
    "dfgenes3=dfgenes.fillna(\"\")\n",
    "dfgenes3.start.astype(pd.np.int)\n",
    "dfgenes3.stop.astype(pd.np.int)\n",
    "dfgenes3.reset_index(inplace=True)\n",
    "dfgenes4=dfgenes.fillna(\"\")\n",
    "dfgenes4.start.astype(pd.np.int)\n",
    "dfgenes4.stop.astype(pd.np.int)\n",
    "dfgenes4.reset_index(inplace=True)"
   ]
  },
  {
   "cell_type": "code",
   "execution_count": 94,
   "metadata": {},
   "outputs": [],
   "source": [
    "def removespecchar(test):\n",
    "    import re\n",
    "    if type(test) == str:\n",
    "        test2=re.sub('\\t','',test)\n",
    "        test=re.sub('\\\"','',test2)\n",
    "    return(test)"
   ]
  },
  {
   "cell_type": "code",
   "execution_count": 95,
   "metadata": {},
   "outputs": [],
   "source": [
    "dfgenes=dfgenes.applymap(removespecchar)\n",
    "dfgenes2=dfgenes2.applymap(removespecchar)\n",
    "dfgenes3=dfgenes3.applymap(removespecchar)\n",
    "dfgenes4=dfgenes4.applymap(removespecchar)"
   ]
  },
  {
   "cell_type": "code",
   "execution_count": 99,
   "metadata": {},
   "outputs": [],
   "source": [
    "collist=list(dfgenes.columns)\n",
    "newcollist=collist[6:9] + collist[0:6] + collist[9:]\n",
    "import csv\n",
    "dfgenes.to_csv(\"Testbedfile.bed\", sep='\\t', columns=newcollist, index=False)\n",
    "collist2=list(dfgenes2.columns)\n",
    "newcollist2=collist2[6:9] + collist2[0:6] + collist2[9:]\n",
    "df2.to_csv(\"Testbedfile2.bed\", sep='\\t', columns=newcollist2, index=False)\n",
    "collist3=list(dfgenes3.columns)\n",
    "newcollist3=collist3[6:9] + collist3[0:6] + collist3[9:]\n",
    "df3.to_csv(\"Testbedfile3.bed\", sep='\\t', columns=newcollist3, index=False)\n",
    "collist4=list(dfgenes4.columns)\n",
    "newcollist4=collist4[6:9] + collist4[0:6] + collist4[9:]\n",
    "df4.to_csv(\"Testbedfile4.bed\", sep='\\t', columns=newcollist4, index=False)"
   ]
  },
  {
   "cell_type": "code",
   "execution_count": null,
   "metadata": {
    "collapsed": true
   },
   "outputs": [],
   "source": []
  }
 ],
 "metadata": {
  "kernelspec": {
   "display_name": "Python 3",
   "language": "python",
   "name": "python3"
  },
  "language_info": {
   "codemirror_mode": {
    "name": "ipython",
    "version": 3
   },
   "file_extension": ".py",
   "mimetype": "text/x-python",
   "name": "python",
   "nbconvert_exporter": "python",
   "pygments_lexer": "ipython3",
   "version": "3.6.1"
  }
 },
 "nbformat": 4,
 "nbformat_minor": 2
}
